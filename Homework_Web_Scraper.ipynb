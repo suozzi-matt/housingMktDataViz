{
  "nbformat": 4,
  "nbformat_minor": 0,
  "metadata": {
    "colab": {
      "name": "Homework: Web Scraper.ipynb",
      "provenance": [],
      "authorship_tag": "ABX9TyPIDZog+HARsmQQis8n7shU",
      "include_colab_link": true
    },
    "kernelspec": {
      "name": "python3",
      "display_name": "Python 3"
    }
  },
  "cells": [
    {
      "cell_type": "markdown",
      "metadata": {
        "id": "view-in-github",
        "colab_type": "text"
      },
      "source": [
        "<a href=\"https://colab.research.google.com/github/suozzi-matt/housingMktDataViz/blob/main/Homework_Web_Scraper.ipynb\" target=\"_parent\"><img src=\"https://colab.research.google.com/assets/colab-badge.svg\" alt=\"Open In Colab\"/></a>"
      ]
    },
    {
      "cell_type": "markdown",
      "metadata": {
        "id": "Ilmvth4qngZp"
      },
      "source": [
        "Homework 3: Python and Web Scraper\n",
        "\n",
        "Matt Suozzi (mds5dd)"
      ]
    },
    {
      "cell_type": "code",
      "metadata": {
        "id": "hYm_kGgzneV7"
      },
      "source": [
        "import csv\n",
        "import requests\n",
        "from bs4 import BeautifulSoup\n",
        "import numpy as np\n",
        "import pandas as pd\n",
        "import datetime as dt\n",
        "import matplotlib.pyplot as plt"
      ],
      "execution_count": 1,
      "outputs": []
    },
    {
      "cell_type": "code",
      "metadata": {
        "id": "Seh9HlV_xXdj"
      },
      "source": [
        "# College Basketball ranking and statistics web pages\n",
        "url = 'https://kenpom.com/'"
      ],
      "execution_count": 2,
      "outputs": []
    },
    {
      "cell_type": "code",
      "metadata": {
        "id": "oCJfhnzKtL3O"
      },
      "source": [
        "# Web scraper for kenpom.com (url)\n",
        "page = requests.get(url)\n",
        "html = page.content\n",
        "soup = BeautifulSoup(html)\n",
        "table = soup.find('tbody') # find just the table body\n",
        "#print(table.prettify()) # don't need to print the table with tags due to length\n",
        "list_of_rows = []\n",
        "for row in table.findAll('tr'): # table rows have the <tr> tag\n",
        "  list_of_cells = []\n",
        "  for cell in row.findAll('td'): # table cells have the <td> tag\n",
        "    text = cell.text.replace('&nbsp;','')\n",
        "    list_of_cells.append(text)\n",
        "  list_of_rows.append(list_of_cells)\n",
        "#print(list_of_rows)"
      ],
      "execution_count": 45,
      "outputs": []
    },
    {
      "cell_type": "code",
      "metadata": {
        "id": "dMz0ZL6Jrbtb"
      },
      "source": [
        "# Write the csv file for kenpom.com\n",
        "with open(\"kenpom_table.csv\", \"w\", newline='') as f:\n",
        "  writer = csv.writer(f)\n",
        "  # Add column names to the file\n",
        "  writer.writerow([\"Rank\", \"Team\", \"Conference\", \"W-L\", \"AdjEM\", \"AdjO\", \"AdjO Rank\", \"AdjD\", \"AdjD Rank\", \"AdjT\", \"AdjT Rank\", \"Luck\", \"Luck Rank\", \"SOS AdjEM\", \"rank\", \"SOS OppO\", \"rank\", \"SOS OppD\", \"rank\", \"NCSOS AdjEM\",\"rank\"]) # add tourney seed\n",
        "  # Add data to the file\n",
        "  writer.writerows(list_of_rows)"
      ],
      "execution_count": 4,
      "outputs": []
    },
    {
      "cell_type": "code",
      "metadata": {
        "id": "LIdx1gPFrpNO",
        "colab": {
          "base_uri": "https://localhost:8080/",
          "height": 35
        },
        "outputId": "9e43d8fa-3aa5-4a37-e7f1-c82c9c98fcaf"
      },
      "source": [
        "# check output\n",
        "'''\n",
        "with open('kenpom_table.csv', newline='', encoding='utf-8') as f:\n",
        "    reader = csv.reader(f)\n",
        "    for row in reader:\n",
        "      print(row)\n",
        "'''"
      ],
      "execution_count": 34,
      "outputs": [
        {
          "output_type": "execute_result",
          "data": {
            "application/vnd.google.colaboratory.intrinsic+json": {
              "type": "string"
            },
            "text/plain": [
              "\"\\nwith open('kenpom_table.csv', newline='', encoding='utf-8') as f:\\n    reader = csv.reader(f)\\n    for row in reader:\\n      print(row)\\n\""
            ]
          },
          "metadata": {
            "tags": []
          },
          "execution_count": 34
        }
      ]
    },
    {
      "cell_type": "code",
      "metadata": {
        "colab": {
          "base_uri": "https://localhost:8080/",
          "height": 1231
        },
        "id": "rWWkn2SW3Zym",
        "outputId": "4b37f802-6839-44ae-8735-fb04c2ff1ae7"
      },
      "source": [
        "# Read in data as pandas dataframe\n",
        "data = pd.read_csv(\"kenpom_table.csv\")\n",
        "data[\"Wins\"] = data[\"W-L\"].str.split(\"-\").str[0] # extract wins from W-L column\n",
        "data[\"Seed\"] = data[\"Team\"].str.split(\" \").str[-1] # teams not in the tournament will have not have an integer in data[\"Seed\"]\n",
        "data = data.convert_dtypes()\n",
        "data[\"Wins\"] = pd.to_numeric(data[\"Wins\"], downcast=\"integer\") # convert to integer to perform calculations\n",
        "data[\"Date Time\"] = dt.datetime.now() # Add date time column to check if stats are current\n",
        "print(data.dtypes)\n",
        "data.head(15)"
      ],
      "execution_count": 43,
      "outputs": [
        {
          "output_type": "stream",
          "text": [
            "Rank                    Int64\n",
            "Team                   string\n",
            "Conference             string\n",
            "W-L                    string\n",
            "AdjEM                 float64\n",
            "AdjO                  float64\n",
            "AdjO Rank               Int64\n",
            "AdjD                  float64\n",
            "AdjD Rank               Int64\n",
            "AdjT                  float64\n",
            "AdjT Rank               Int64\n",
            "Luck                  float64\n",
            "Luck Rank               Int64\n",
            "SOS AdjEM             float64\n",
            "rank                    Int64\n",
            "SOS OppO              float64\n",
            "rank.1                  Int64\n",
            "SOS OppD              float64\n",
            "rank.2                  Int64\n",
            "NCSOS AdjEM           float64\n",
            "rank.3                  Int64\n",
            "Wins                     int8\n",
            "Seed                   string\n",
            "Date Time      datetime64[ns]\n",
            "dtype: object\n"
          ],
          "name": "stdout"
        },
        {
          "output_type": "execute_result",
          "data": {
            "text/html": [
              "<div>\n",
              "<style scoped>\n",
              "    .dataframe tbody tr th:only-of-type {\n",
              "        vertical-align: middle;\n",
              "    }\n",
              "\n",
              "    .dataframe tbody tr th {\n",
              "        vertical-align: top;\n",
              "    }\n",
              "\n",
              "    .dataframe thead th {\n",
              "        text-align: right;\n",
              "    }\n",
              "</style>\n",
              "<table border=\"1\" class=\"dataframe\">\n",
              "  <thead>\n",
              "    <tr style=\"text-align: right;\">\n",
              "      <th></th>\n",
              "      <th>Rank</th>\n",
              "      <th>Team</th>\n",
              "      <th>Conference</th>\n",
              "      <th>W-L</th>\n",
              "      <th>AdjEM</th>\n",
              "      <th>AdjO</th>\n",
              "      <th>AdjO Rank</th>\n",
              "      <th>AdjD</th>\n",
              "      <th>AdjD Rank</th>\n",
              "      <th>AdjT</th>\n",
              "      <th>AdjT Rank</th>\n",
              "      <th>Luck</th>\n",
              "      <th>Luck Rank</th>\n",
              "      <th>SOS AdjEM</th>\n",
              "      <th>rank</th>\n",
              "      <th>SOS OppO</th>\n",
              "      <th>rank.1</th>\n",
              "      <th>SOS OppD</th>\n",
              "      <th>rank.2</th>\n",
              "      <th>NCSOS AdjEM</th>\n",
              "      <th>rank.3</th>\n",
              "      <th>Wins</th>\n",
              "      <th>Seed</th>\n",
              "      <th>Date Time</th>\n",
              "    </tr>\n",
              "  </thead>\n",
              "  <tbody>\n",
              "    <tr>\n",
              "      <th>0</th>\n",
              "      <td>1</td>\n",
              "      <td>Gonzaga 1</td>\n",
              "      <td>WCC</td>\n",
              "      <td>26-0</td>\n",
              "      <td>38.05</td>\n",
              "      <td>126.8</td>\n",
              "      <td>1</td>\n",
              "      <td>88.8</td>\n",
              "      <td>10</td>\n",
              "      <td>74.8</td>\n",
              "      <td>4</td>\n",
              "      <td>0.018</td>\n",
              "      <td>136</td>\n",
              "      <td>7.82</td>\n",
              "      <td>94</td>\n",
              "      <td>105.7</td>\n",
              "      <td>100</td>\n",
              "      <td>97.9</td>\n",
              "      <td>96</td>\n",
              "      <td>5.99</td>\n",
              "      <td>106</td>\n",
              "      <td>26</td>\n",
              "      <td>1</td>\n",
              "      <td>2021-03-15 00:44:46.999500</td>\n",
              "    </tr>\n",
              "    <tr>\n",
              "      <th>1</th>\n",
              "      <td>2</td>\n",
              "      <td>Michigan 1</td>\n",
              "      <td>B10</td>\n",
              "      <td>20-4</td>\n",
              "      <td>32.22</td>\n",
              "      <td>120.1</td>\n",
              "      <td>6</td>\n",
              "      <td>87.9</td>\n",
              "      <td>7</td>\n",
              "      <td>66.8</td>\n",
              "      <td>260</td>\n",
              "      <td>0.026</td>\n",
              "      <td>115</td>\n",
              "      <td>16.87</td>\n",
              "      <td>14</td>\n",
              "      <td>111.3</td>\n",
              "      <td>12</td>\n",
              "      <td>94.5</td>\n",
              "      <td>18</td>\n",
              "      <td>2.99</td>\n",
              "      <td>158</td>\n",
              "      <td>20</td>\n",
              "      <td>1</td>\n",
              "      <td>2021-03-15 00:44:46.999500</td>\n",
              "    </tr>\n",
              "    <tr>\n",
              "      <th>2</th>\n",
              "      <td>3</td>\n",
              "      <td>Illinois 1</td>\n",
              "      <td>B10</td>\n",
              "      <td>23-6</td>\n",
              "      <td>32.04</td>\n",
              "      <td>119.7</td>\n",
              "      <td>7</td>\n",
              "      <td>87.6</td>\n",
              "      <td>5</td>\n",
              "      <td>70.7</td>\n",
              "      <td>80</td>\n",
              "      <td>0.030</td>\n",
              "      <td>110</td>\n",
              "      <td>18.88</td>\n",
              "      <td>3</td>\n",
              "      <td>112.6</td>\n",
              "      <td>2</td>\n",
              "      <td>93.7</td>\n",
              "      <td>9</td>\n",
              "      <td>9.95</td>\n",
              "      <td>57</td>\n",
              "      <td>23</td>\n",
              "      <td>1</td>\n",
              "      <td>2021-03-15 00:44:46.999500</td>\n",
              "    </tr>\n",
              "    <tr>\n",
              "      <th>3</th>\n",
              "      <td>4</td>\n",
              "      <td>Baylor 1</td>\n",
              "      <td>B12</td>\n",
              "      <td>22-2</td>\n",
              "      <td>30.93</td>\n",
              "      <td>124.0</td>\n",
              "      <td>3</td>\n",
              "      <td>93.0</td>\n",
              "      <td>44</td>\n",
              "      <td>68.4</td>\n",
              "      <td>179</td>\n",
              "      <td>0.050</td>\n",
              "      <td>69</td>\n",
              "      <td>9.57</td>\n",
              "      <td>78</td>\n",
              "      <td>106.4</td>\n",
              "      <td>90</td>\n",
              "      <td>96.9</td>\n",
              "      <td>66</td>\n",
              "      <td>-4.18</td>\n",
              "      <td>270</td>\n",
              "      <td>22</td>\n",
              "      <td>1</td>\n",
              "      <td>2021-03-15 00:44:46.999500</td>\n",
              "    </tr>\n",
              "    <tr>\n",
              "      <th>4</th>\n",
              "      <td>5</td>\n",
              "      <td>Iowa 2</td>\n",
              "      <td>B10</td>\n",
              "      <td>21-8</td>\n",
              "      <td>30.33</td>\n",
              "      <td>124.2</td>\n",
              "      <td>2</td>\n",
              "      <td>93.9</td>\n",
              "      <td>50</td>\n",
              "      <td>70.0</td>\n",
              "      <td>99</td>\n",
              "      <td>-0.028</td>\n",
              "      <td>240</td>\n",
              "      <td>16.91</td>\n",
              "      <td>13</td>\n",
              "      <td>110.3</td>\n",
              "      <td>19</td>\n",
              "      <td>93.4</td>\n",
              "      <td>6</td>\n",
              "      <td>-5.43</td>\n",
              "      <td>286</td>\n",
              "      <td>21</td>\n",
              "      <td>2</td>\n",
              "      <td>2021-03-15 00:44:46.999500</td>\n",
              "    </tr>\n",
              "    <tr>\n",
              "      <th>5</th>\n",
              "      <td>6</td>\n",
              "      <td>Houston 2</td>\n",
              "      <td>Amer</td>\n",
              "      <td>24-3</td>\n",
              "      <td>30.25</td>\n",
              "      <td>119.6</td>\n",
              "      <td>8</td>\n",
              "      <td>89.4</td>\n",
              "      <td>16</td>\n",
              "      <td>64.9</td>\n",
              "      <td>327</td>\n",
              "      <td>-0.009</td>\n",
              "      <td>201</td>\n",
              "      <td>6.57</td>\n",
              "      <td>106</td>\n",
              "      <td>103.7</td>\n",
              "      <td>151</td>\n",
              "      <td>97.1</td>\n",
              "      <td>74</td>\n",
              "      <td>1.63</td>\n",
              "      <td>186</td>\n",
              "      <td>24</td>\n",
              "      <td>2</td>\n",
              "      <td>2021-03-15 00:44:46.999500</td>\n",
              "    </tr>\n",
              "    <tr>\n",
              "      <th>6</th>\n",
              "      <td>7</td>\n",
              "      <td>Ohio St. 2</td>\n",
              "      <td>B10</td>\n",
              "      <td>21-9</td>\n",
              "      <td>26.85</td>\n",
              "      <td>123.0</td>\n",
              "      <td>4</td>\n",
              "      <td>96.1</td>\n",
              "      <td>79</td>\n",
              "      <td>67.1</td>\n",
              "      <td>247</td>\n",
              "      <td>0.003</td>\n",
              "      <td>163</td>\n",
              "      <td>18.78</td>\n",
              "      <td>5</td>\n",
              "      <td>111.7</td>\n",
              "      <td>8</td>\n",
              "      <td>92.9</td>\n",
              "      <td>3</td>\n",
              "      <td>2.86</td>\n",
              "      <td>162</td>\n",
              "      <td>21</td>\n",
              "      <td>2</td>\n",
              "      <td>2021-03-15 00:44:46.999500</td>\n",
              "    </tr>\n",
              "    <tr>\n",
              "      <th>7</th>\n",
              "      <td>8</td>\n",
              "      <td>Alabama 2</td>\n",
              "      <td>SEC</td>\n",
              "      <td>24-6</td>\n",
              "      <td>26.42</td>\n",
              "      <td>112.4</td>\n",
              "      <td>34</td>\n",
              "      <td>86.0</td>\n",
              "      <td>2</td>\n",
              "      <td>73.9</td>\n",
              "      <td>9</td>\n",
              "      <td>0.031</td>\n",
              "      <td>107</td>\n",
              "      <td>14.20</td>\n",
              "      <td>27</td>\n",
              "      <td>109.7</td>\n",
              "      <td>28</td>\n",
              "      <td>95.5</td>\n",
              "      <td>32</td>\n",
              "      <td>8.88</td>\n",
              "      <td>70</td>\n",
              "      <td>24</td>\n",
              "      <td>2</td>\n",
              "      <td>2021-03-15 00:44:46.999500</td>\n",
              "    </tr>\n",
              "    <tr>\n",
              "      <th>8</th>\n",
              "      <td>9</td>\n",
              "      <td>Loyola Chicago 8</td>\n",
              "      <td>MVC</td>\n",
              "      <td>24-4</td>\n",
              "      <td>25.18</td>\n",
              "      <td>111.1</td>\n",
              "      <td>49</td>\n",
              "      <td>85.9</td>\n",
              "      <td>1</td>\n",
              "      <td>64.2</td>\n",
              "      <td>342</td>\n",
              "      <td>-0.020</td>\n",
              "      <td>226</td>\n",
              "      <td>4.11</td>\n",
              "      <td>134</td>\n",
              "      <td>104.3</td>\n",
              "      <td>136</td>\n",
              "      <td>100.2</td>\n",
              "      <td>136</td>\n",
              "      <td>4.70</td>\n",
              "      <td>129</td>\n",
              "      <td>24</td>\n",
              "      <td>8</td>\n",
              "      <td>2021-03-15 00:44:46.999500</td>\n",
              "    </tr>\n",
              "    <tr>\n",
              "      <th>9</th>\n",
              "      <td>10</td>\n",
              "      <td>Wisconsin 9</td>\n",
              "      <td>B10</td>\n",
              "      <td>17-12</td>\n",
              "      <td>24.08</td>\n",
              "      <td>113.2</td>\n",
              "      <td>32</td>\n",
              "      <td>89.1</td>\n",
              "      <td>13</td>\n",
              "      <td>64.9</td>\n",
              "      <td>326</td>\n",
              "      <td>-0.049</td>\n",
              "      <td>283</td>\n",
              "      <td>18.06</td>\n",
              "      <td>9</td>\n",
              "      <td>111.7</td>\n",
              "      <td>7</td>\n",
              "      <td>93.7</td>\n",
              "      <td>8</td>\n",
              "      <td>1.22</td>\n",
              "      <td>194</td>\n",
              "      <td>17</td>\n",
              "      <td>9</td>\n",
              "      <td>2021-03-15 00:44:46.999500</td>\n",
              "    </tr>\n",
              "    <tr>\n",
              "      <th>10</th>\n",
              "      <td>11</td>\n",
              "      <td>Virginia 4</td>\n",
              "      <td>ACC</td>\n",
              "      <td>18-6</td>\n",
              "      <td>24.08</td>\n",
              "      <td>116.3</td>\n",
              "      <td>12</td>\n",
              "      <td>92.3</td>\n",
              "      <td>33</td>\n",
              "      <td>60.1</td>\n",
              "      <td>357</td>\n",
              "      <td>0.046</td>\n",
              "      <td>83</td>\n",
              "      <td>12.02</td>\n",
              "      <td>53</td>\n",
              "      <td>109.6</td>\n",
              "      <td>30</td>\n",
              "      <td>97.6</td>\n",
              "      <td>84</td>\n",
              "      <td>0.28</td>\n",
              "      <td>210</td>\n",
              "      <td>18</td>\n",
              "      <td>4</td>\n",
              "      <td>2021-03-15 00:44:46.999500</td>\n",
              "    </tr>\n",
              "    <tr>\n",
              "      <th>11</th>\n",
              "      <td>12</td>\n",
              "      <td>Villanova 5</td>\n",
              "      <td>BE</td>\n",
              "      <td>16-6</td>\n",
              "      <td>24.05</td>\n",
              "      <td>119.3</td>\n",
              "      <td>9</td>\n",
              "      <td>95.3</td>\n",
              "      <td>68</td>\n",
              "      <td>65.1</td>\n",
              "      <td>320</td>\n",
              "      <td>-0.006</td>\n",
              "      <td>196</td>\n",
              "      <td>12.99</td>\n",
              "      <td>41</td>\n",
              "      <td>108.8</td>\n",
              "      <td>44</td>\n",
              "      <td>95.9</td>\n",
              "      <td>41</td>\n",
              "      <td>7.33</td>\n",
              "      <td>91</td>\n",
              "      <td>16</td>\n",
              "      <td>5</td>\n",
              "      <td>2021-03-15 00:44:46.999500</td>\n",
              "    </tr>\n",
              "    <tr>\n",
              "      <th>12</th>\n",
              "      <td>13</td>\n",
              "      <td>Purdue 4</td>\n",
              "      <td>B10</td>\n",
              "      <td>18-9</td>\n",
              "      <td>23.70</td>\n",
              "      <td>114.3</td>\n",
              "      <td>23</td>\n",
              "      <td>90.6</td>\n",
              "      <td>23</td>\n",
              "      <td>66.5</td>\n",
              "      <td>274</td>\n",
              "      <td>0.019</td>\n",
              "      <td>131</td>\n",
              "      <td>17.27</td>\n",
              "      <td>11</td>\n",
              "      <td>111.5</td>\n",
              "      <td>11</td>\n",
              "      <td>94.2</td>\n",
              "      <td>12</td>\n",
              "      <td>5.71</td>\n",
              "      <td>114</td>\n",
              "      <td>18</td>\n",
              "      <td>4</td>\n",
              "      <td>2021-03-15 00:44:46.999500</td>\n",
              "    </tr>\n",
              "    <tr>\n",
              "      <th>13</th>\n",
              "      <td>14</td>\n",
              "      <td>USC 6</td>\n",
              "      <td>P12</td>\n",
              "      <td>22-7</td>\n",
              "      <td>23.65</td>\n",
              "      <td>113.6</td>\n",
              "      <td>30</td>\n",
              "      <td>89.9</td>\n",
              "      <td>19</td>\n",
              "      <td>67.3</td>\n",
              "      <td>236</td>\n",
              "      <td>-0.006</td>\n",
              "      <td>194</td>\n",
              "      <td>11.13</td>\n",
              "      <td>64</td>\n",
              "      <td>108.1</td>\n",
              "      <td>57</td>\n",
              "      <td>97.0</td>\n",
              "      <td>70</td>\n",
              "      <td>5.03</td>\n",
              "      <td>128</td>\n",
              "      <td>22</td>\n",
              "      <td>6</td>\n",
              "      <td>2021-03-15 00:44:46.999500</td>\n",
              "    </tr>\n",
              "    <tr>\n",
              "      <th>14</th>\n",
              "      <td>15</td>\n",
              "      <td>Florida St. 4</td>\n",
              "      <td>ACC</td>\n",
              "      <td>16-6</td>\n",
              "      <td>23.50</td>\n",
              "      <td>117.1</td>\n",
              "      <td>10</td>\n",
              "      <td>93.6</td>\n",
              "      <td>48</td>\n",
              "      <td>70.6</td>\n",
              "      <td>84</td>\n",
              "      <td>-0.011</td>\n",
              "      <td>207</td>\n",
              "      <td>12.54</td>\n",
              "      <td>44</td>\n",
              "      <td>108.8</td>\n",
              "      <td>46</td>\n",
              "      <td>96.2</td>\n",
              "      <td>45</td>\n",
              "      <td>4.23</td>\n",
              "      <td>142</td>\n",
              "      <td>16</td>\n",
              "      <td>4</td>\n",
              "      <td>2021-03-15 00:44:46.999500</td>\n",
              "    </tr>\n",
              "  </tbody>\n",
              "</table>\n",
              "</div>"
            ],
            "text/plain": [
              "    Rank              Team Conference  ... Wins  Seed                  Date Time\n",
              "0      1         Gonzaga 1        WCC  ...   26     1 2021-03-15 00:44:46.999500\n",
              "1      2        Michigan 1        B10  ...   20     1 2021-03-15 00:44:46.999500\n",
              "2      3        Illinois 1        B10  ...   23     1 2021-03-15 00:44:46.999500\n",
              "3      4          Baylor 1        B12  ...   22     1 2021-03-15 00:44:46.999500\n",
              "4      5            Iowa 2        B10  ...   21     2 2021-03-15 00:44:46.999500\n",
              "5      6         Houston 2       Amer  ...   24     2 2021-03-15 00:44:46.999500\n",
              "6      7        Ohio St. 2        B10  ...   21     2 2021-03-15 00:44:46.999500\n",
              "7      8         Alabama 2        SEC  ...   24     2 2021-03-15 00:44:46.999500\n",
              "8      9  Loyola Chicago 8        MVC  ...   24     8 2021-03-15 00:44:46.999500\n",
              "9     10       Wisconsin 9        B10  ...   17     9 2021-03-15 00:44:46.999500\n",
              "10    11        Virginia 4        ACC  ...   18     4 2021-03-15 00:44:46.999500\n",
              "11    12       Villanova 5         BE  ...   16     5 2021-03-15 00:44:46.999500\n",
              "12    13          Purdue 4        B10  ...   18     4 2021-03-15 00:44:46.999500\n",
              "13    14             USC 6        P12  ...   22     6 2021-03-15 00:44:46.999500\n",
              "14    15     Florida St. 4        ACC  ...   16     4 2021-03-15 00:44:46.999500\n",
              "\n",
              "[15 rows x 24 columns]"
            ]
          },
          "metadata": {
            "tags": []
          },
          "execution_count": 43
        }
      ]
    },
    {
      "cell_type": "code",
      "metadata": {
        "colab": {
          "base_uri": "https://localhost:8080/",
          "height": 361
        },
        "id": "2JXSAFEMnRUG",
        "outputId": "50cfd7de-10a4-42c7-f809-e4f577500d1c"
      },
      "source": [
        "# Plot of Adj Efficiency Margin\n",
        "#filter: rank<=25\n",
        "rank_filter = 25 \n",
        "data_filtered = data.iloc[0:rank_filter]\n",
        "\n",
        "teams_top = list(data_filtered[\"Team\"])\n",
        "y_pos = np.arange(len(teams_top))\n",
        "adj_margin = list(data_filtered[\"AdjEM\"])\n",
        "\n",
        "plt.bar(y_pos, adj_margin)\n",
        "plt.xticks(y_pos, teams_top)\n",
        "plt.xticks(rotation=90)\n",
        "plt.ylabel(\"Adjusted Efficiency Margin\")\n",
        "plt.title(\"Teams Adjusted Efficiency Margin\")\n",
        "\n",
        "plt.show()"
      ],
      "execution_count": 41,
      "outputs": [
        {
          "output_type": "display_data",
          "data": {
            "image/png": "[encoded data removed]",
            "text/plain": [
              "<Figure size 432x288 with 1 Axes>"
            ]
          },
          "metadata": {
            "tags": [],
            "needs_background": "light"
          }
        }
      ]
    },
    {
      "cell_type": "markdown",
      "metadata": {
        "id": "EbmvOnQHpQKZ"
      },
      "source": [
        "KenPom rankings are based on Adjusted Effiency Margin, which is the difference between Adjusted Offense and Adjusted Defense."
      ]
    },
    {
      "cell_type": "code",
      "metadata": {
        "colab": {
          "base_uri": "https://localhost:8080/",
          "height": 356
        },
        "id": "p_2uYwtcp61p",
        "outputId": "fe9e3a41-1c0a-40c8-f036-7b33b53e486d"
      },
      "source": [
        "# Stacked plot of Adj Offense - Adj Defense\n",
        "#filter: rank<=15\n",
        "rank_filter = 15 \n",
        "data_filtered = data.iloc[0:rank_filter]\n",
        "teams_top = list(data_filtered[\"Team\"])\n",
        "y_pos = np.arange(len(teams_top))\n",
        "\n",
        "adj_off = list(data_filtered[\"AdjO\"])\n",
        "adj_def = list(data_filtered[\"AdjD\"])\n",
        "\n",
        "plt.bar(y_pos, adj_off, label= \"Adj Offense\", color = \"green\")\n",
        "plt.bar(y_pos, adj_def, label= \"Adj Defense\", color = \"red\")\n",
        "plt.xticks(y_pos, teams_top)\n",
        "plt.xticks(rotation=90)\n",
        "plt.ylabel(\"Adjusted Offense & Defense\")\n",
        "plt.title(\"Teams Adjusted Offense and Defense Differential\")\n",
        "plt.legend(loc=\"best\")\n",
        "\n",
        "plt.show()"
      ],
      "execution_count": 25,
      "outputs": [
        {
          "output_type": "display_data",
          "data": {
            "image/png": "[encoded data removed]",
            "text/plain": [
              "<Figure size 432x288 with 1 Axes>"
            ]
          },
          "metadata": {
            "tags": [],
            "needs_background": "light"
          }
        }
      ]
    },
    {
      "cell_type": "markdown",
      "metadata": {
        "id": "KX-JYQgaphIq"
      },
      "source": [
        "The portion of the above graph that is green is equivalent to the Adjusted Efficiency Margin."
      ]
    },
    {
      "cell_type": "code",
      "metadata": {
        "colab": {
          "base_uri": "https://localhost:8080/",
          "height": 0
        },
        "id": "VVabL-amd1LB",
        "outputId": "7e2aa968-3943-458a-f9d9-642eba814b57"
      },
      "source": [
        "# create a list of the teams\n",
        "teams = list(data[\"Team\"])\n",
        "#teams_lower = list(map(str.lower, teams))\n",
        "print(teams)\n",
        "\n",
        "# create a set of the conferences (set so only one entry per conference)\n",
        "conferences = sorted(set(data[\"Conference\"])) \n",
        "#conf_lower = list(map(str.lower, conferences))\n",
        "print(conferences)\n",
        "\n",
        "# create an empty dataframe to track team stats over time\n",
        "#team_ts = pd.DataFrame({\"Rank\":[], \"Team\":[], \"Conference\":[], \"W-L\":[], \"Wins\":[], \"AdjEM\":[], \"AdjO\":[], \"AdjO Rank\":[], \"AdjD\":[], \"AdjD Rank\":[], \"Date Time\":[]})\n",
        "#virginia_ts = pd.DataFrame({\"Rank\":[], \"Team\":[], \"Conference\":[], \"W-L\":[], \"Wins\":[], \"AdjEM\":[], \"AdjO\":[], \"AdjO Rank\":[], \"AdjD\":[], \"AdjD Rank\":[], \"Date Time\":[]})"
      ],
      "execution_count": 26,
      "outputs": [
        {
          "output_type": "stream",
          "text": [
            "['Gonzaga 1', 'Michigan 1', 'Illinois 1', 'Baylor 1', 'Iowa 2', 'Houston 2', 'Ohio St. 2', 'Alabama 2', 'Loyola Chicago 8', 'Wisconsin 9', 'Virginia 4', 'Villanova 5', 'Purdue 4', 'USC 6', 'Florida St. 4', 'Connecticut 7', 'Colorado 5', 'Arkansas 3', 'Creighton 5', 'San Diego St. 6', 'Tennessee 5', 'Kansas 3', 'Texas Tech 6', 'BYU 6', 'St. Bonaventure 9', 'Texas 3', 'West Virginia 3', 'North Carolina 8', 'LSU 8', 'Oklahoma St. 4', 'Maryland 10', 'Georgia Tech 9', 'Duke', 'Rutgers 10', 'Penn St.', 'Oregon 7', 'Florida 7', 'Memphis', 'Oklahoma 8', 'Utah St. 11', 'Syracuse 11', 'Clemson 7', 'Arizona', 'UCLA 11', 'VCU 10', 'Indiana', 'Saint Louis', 'Mississippi', 'Kentucky', 'Virginia Tech 10', 'Missouri 9', 'Seton Hall', 'Drake 11', 'Louisville', 'Georgetown 12', 'Michigan St. 11', 'Davidson', 'Minnesota', 'SMU', 'Boise St.', 'Xavier', 'Toledo', 'Colorado St.', 'Auburn', 'Richmond', 'Wright St.', \"St. John's\", 'Buffalo', 'UC Santa Barbara 12', 'Northwestern', 'North Texas 13', 'Utah', 'N.C. State', 'Wichita St. 11', \"Saint Mary's\", 'Providence', 'Mississippi St.', 'Ohio 13', 'Dayton', 'Marquette', 'Notre Dame', 'Louisiana Tech', 'Stanford', 'Colgate 14', 'Oregon St. 12', 'Abilene Christian 14', 'Nevada', 'Missouri St.', 'Pittsburgh', 'Marshall', 'Winthrop 12', 'Furman', 'Georgia', 'Western Kentucky', 'Nebraska', 'Vanderbilt', 'Liberty 13', 'UAB', 'Akron', 'UNC Greensboro 13', 'San Francisco', 'Loyola Marymount', 'UCF', 'Belmont', 'Rhode Island', 'Kent St.', 'Washington St.', 'Grand Canyon 15', 'UC Irvine', 'Eastern Washington 14', 'UC Riverside', 'Pepperdine', 'Arizona St.', 'Massachusetts', 'Butler', 'Cincinnati', 'South Dakota St.', 'Indiana St.', 'Duquesne', 'Yale', 'Bowling Green', 'South Carolina', 'Pacific', 'Wofford', 'Tulsa', 'East Tennessee St.', 'Weber St.', 'Morehead St. 14', 'Mercer', 'Vermont', 'George Mason', 'Miami FL', 'DePaul', 'Texas A&M', 'UTEP', 'California', 'Ball St.', 'TCU', 'Temple', 'Bradley', 'Southern Utah', 'Cal St. Bakersfield', 'Boston College', 'North Dakota St.', 'Miami OH', 'Drexel 16', 'Detroit', 'VMI', 'Tulane', 'Old Dominion', 'Cleveland St. 15', 'Oral Roberts 15', 'Georgia St.', 'Santa Clara', 'Stephen F. Austin', 'Chattanooga', 'Kansas St.', 'Navy', 'Jacksonville St.', 'New Mexico St.', 'Northern Iowa', 'Princeton', 'Wyoming', 'Northeastern', 'East Carolina', 'UMBC', 'UTSA', 'Murray St.', 'UNLV', 'Wake Forest', 'James Madison', 'Eastern Kentucky', 'Washington', 'Bryant', 'Coastal Carolina', 'South Dakota', 'South Florida', 'Iowa St.', 'Gardner Webb', 'Harvard', 'Iona 15', 'Florida Atlantic', 'Bellarmine', 'Sam Houston St.', 'Texas St.', 'Siena', 'Fresno St.', 'Hofstra', 'Army', 'Rice', 'Valparaiso', 'Hartford 16', 'Southern Illinois', 'La Salle', 'Northern Kentucky', 'Hawaii', \"Saint Joseph's\", 'Illinois St.', 'Elon', 'Norfolk St. 16', 'Nicholls St.', 'Montana', 'Evansville', 'San Diego', 'Milwaukee', 'Louisiana', 'Oakland', 'Campbell', 'Appalachian St. 16', 'Loyola MD', 'Utah Valley', 'Wagner', 'Penn', 'Austin Peay', 'Cornell', 'The Citadel', 'South Alabama', 'UMKC', \"Mount St. Mary's 16\", \"Saint Peter's\", 'Morgan St.', 'UC Davis', 'George Washington', 'Montana St.', 'Delaware', 'Charleston', 'Monmouth', 'UMass Lowell', 'Texas Southern 16', 'Stony Brook', 'Seattle', 'Youngstown St.', 'Charlotte', 'Albany', 'Radford', 'UNC Asheville', 'Western Carolina', 'Longwood', 'UNC Wilmington', 'Little Rock', 'UC San Diego', 'Lipscomb', 'Cal Baptist', 'Brown', 'Green Bay', 'Prairie View A&M', 'Northern Colorado', 'Stetson', 'Niagara', 'Canisius', 'Arkansas St.', 'Long Beach St.', 'Boston University', 'UT Arlington', 'Southern Miss', 'IUPUI', 'Lafayette', 'Portland St.', 'Cal St. Fullerton', 'Sacramento St.', 'American', 'Samford', 'LIU', 'Marist', 'New Hampshire', 'Tarleton St.', 'Western Michigan', 'Idaho St.', 'Southeast Missouri St.', 'Georgia Southern', 'Purdue Fort Wayne', 'Jackson St.', 'Cal St. Northridge', 'Bucknell', 'Central Michigan', 'Dartmouth', 'Merrimack', 'Eastern Michigan', 'Illinois Chicago', 'Florida A&M', 'High Point', 'Columbia', 'North Alabama', 'Quinnipiac', 'North Carolina A&T', 'New Orleans', 'Coppin St.', 'Florida Gulf Coast', 'New Mexico', 'Fairleigh Dickinson', 'St. Francis NY', 'UT Rio Grande Valley', 'North Dakota', 'Robert Morris', 'Holy Cross', 'NJIT', 'FIU', 'Towson', 'William & Mary', 'Fordham', 'Jacksonville', 'St. Francis PA', 'Louisiana Monroe', 'Western Illinois', 'Troy', 'Middle Tennessee', 'North Florida', 'Fairfield', 'Eastern Illinois', 'Lamar', 'Southern', 'Nebraska Omaha', 'Tennessee Tech', 'Howard', 'Manhattan', 'Rider', 'Sacred Heart', 'Tennessee St.', 'USC Upstate', 'SIU Edwardsville', 'Northwestern St.', 'Binghamton', 'Grambling St.', 'Presbyterian', 'Hampton', 'Northern Arizona', 'North Carolina Central', 'Portland', 'Air Force', 'San Jose St.', 'Dixie St.', 'Central Arkansas', 'Lehigh', 'Cal Poly', 'Northern Illinois', 'Kennesaw St.', 'Charleston Southern', 'Southeastern Louisiana', 'Central Connecticut', 'McNeese St.', 'Houston Baptist', 'Incarnate Word', 'Denver', 'Maine', 'Texas A&M Corpus Chris', 'Alcorn St.', 'Tennessee Martin', 'Alabama A&M', 'Bethune Cookman', 'Delaware St.', 'Arkansas Pine Bluff', 'Idaho', 'South Carolina St.', 'Alabama St.', 'Maryland Eastern Shore', 'Chicago St.', 'Mississippi Valley St.']\n",
            "['A10', 'ACC', 'AE', 'ASun', 'Amer', 'B10', 'B12', 'BE', 'BSky', 'BSth', 'BW', 'CAA', 'CUSA', 'Horz', 'Ivy', 'MAAC', 'MAC', 'MEAC', 'MVC', 'MWC', 'NEC', 'OVC', 'P12', 'Pat', 'SB', 'SC', 'SEC', 'SWAC', 'Slnd', 'Sum', 'WAC', 'WCC']\n"
          ],
          "name": "stdout"
        }
      ]
    },
    {
      "cell_type": "code",
      "metadata": {
        "colab": {
          "base_uri": "https://localhost:8080/",
          "height": 0
        },
        "id": "NRNOY3tk1_kd",
        "outputId": "f2590a36-2188-44a1-9b53-25122467d71d"
      },
      "source": [
        "# Find Virginia and stats\n",
        "team = \"Virginia 4\" # include seed\n",
        "team_stats = data[data[\"Team\"]==team]\n",
        "print(team_stats.iloc[:,:9])"
      ],
      "execution_count": 27,
      "outputs": [
        {
          "output_type": "stream",
          "text": [
            "    Rank        Team Conference   W-L  AdjEM   AdjO  AdjO Rank  AdjD  AdjD Rank\n",
            "10    11  Virginia 4        ACC  18-6  24.08  116.3         12  92.3         33\n"
          ],
          "name": "stdout"
        }
      ]
    },
    {
      "cell_type": "code",
      "metadata": {
        "colab": {
          "base_uri": "https://localhost:8080/",
          "height": 0
        },
        "id": "hQ3HkyzfeAfM",
        "outputId": "1304336b-2bba-4edc-fb30-fac75c352bff"
      },
      "source": [
        "# Find any team by user input\n",
        "new_team = input(\"Lookup a new team: \") # raise if input not string (i.e. integer, then look up rank)\n",
        "if new_team in teams:\n",
        "  team_stats = data[data[\"Team\"]==new_team]\n",
        "  print(team_stats)\n",
        "else: \n",
        "  print(\"Team not found!\")\n",
        "  new_team = input(\"Please enter an NCAA DI team (with proper formattingn and seed): \") # raise if input not string (i.e. integer, then look up rank)\n",
        "  team_stats = data[data[\"Team\"]==new_team]\n",
        "  print(team_stats)"
      ],
      "execution_count": 32,
      "outputs": [
        {
          "output_type": "stream",
          "text": [
            "Lookup a new team: Duke\n",
            "    Rank  Team Conference    W-L  ...  rank.3  Wins  Seed                  Date Time\n",
            "32    33  Duke        ACC  13-11  ...     120    13  Duke 2021-03-15 00:34:31.781138\n",
            "\n",
            "[1 rows x 24 columns]\n"
          ],
          "name": "stdout"
        }
      ]
    },
    {
      "cell_type": "code",
      "metadata": {
        "id": "n5tqRRVl2sIF",
        "colab": {
          "base_uri": "https://localhost:8080/",
          "height": 0
        },
        "outputId": "d05253d9-044b-49f3-bea2-77fd6dfba4ab"
      },
      "source": [
        "# Find all ACC teams with ranking and W-L\n",
        "conference = \"ACC\"\n",
        "acc_teams = data[data[\"Conference\"]==conference]\n",
        "print(acc_teams.iloc[:,0:4])\n",
        "\n",
        "print(\"\\n\")\n",
        "\n",
        "# sum total wins\n",
        "acc_wins = sum(acc_teams[\"Wins\"])\n",
        "print(\"Total conference wins: \" + str(acc_wins))"
      ],
      "execution_count": 28,
      "outputs": [
        {
          "output_type": "stream",
          "text": [
            "     Rank              Team Conference    W-L\n",
            "10     11        Virginia 4        ACC   18-6\n",
            "14     15     Florida St. 4        ACC   16-6\n",
            "27     28  North Carolina 8        ACC  18-10\n",
            "31     32    Georgia Tech 9        ACC   17-8\n",
            "32     33              Duke        ACC  13-11\n",
            "40     41       Syracuse 11        ACC   16-9\n",
            "41     42         Clemson 7        ACC   16-7\n",
            "49     50  Virginia Tech 10        ACC   15-6\n",
            "53     54        Louisville        ACC   13-7\n",
            "72     73        N.C. State        ACC  13-10\n",
            "80     81        Notre Dame        ACC  11-15\n",
            "88     89        Pittsburgh        ACC  10-12\n",
            "131   132          Miami FL        ACC  10-17\n",
            "142   143    Boston College        ACC   4-16\n",
            "169   170       Wake Forest        ACC   6-16\n",
            "\n",
            "\n",
            "Total conference wins: 196\n"
          ],
          "name": "stdout"
        }
      ]
    },
    {
      "cell_type": "code",
      "metadata": {
        "id": "h560Sacl2xV9",
        "colab": {
          "base_uri": "https://localhost:8080/",
          "height": 438
        },
        "outputId": "11f6a6c6-2c29-4b34-c9c1-18d35883b86c"
      },
      "source": [
        "# Group by conference: teams in top 50, total wins\n",
        "#filter: rank<=50\n",
        "rank_filter = 50 \n",
        "# can input new filter\n",
        "rank_filter = int(input(\"Filter the top teams (10-300): \"))\n",
        "data_filtered = data.iloc[0:rank_filter]\n",
        "\n",
        "#total wins for each conference\n",
        "conf_total = pd.DataFrame(data.groupby('Conference')[\"Wins\"].sum())\n",
        "conf_total[\"Team_Count\"] = data.groupby('Conference')[\"Team\"].count()\n",
        "\n",
        "#groupby[\"Conference\"] to sum(\"Wins\")\n",
        "conf_stats = pd.DataFrame(data_filtered.groupby('Conference')[\"Wins\"].sum())\n",
        "\n",
        "#count(\"Team\")\n",
        "conf_stats[\"Team_Count\"] = data_filtered.groupby('Conference')[\"Team\"].count()\n",
        "\n",
        "# Average wins per team in each conference\n",
        "conf_stats[\"Avg_Wins_per_Team\"] = conf_stats[\"Wins\"]/conf_stats[\"Team_Count\"]\n",
        "\n",
        "# What proportion of the conference is highly ranked?\n",
        "conf_stats[\"Team_Representation\"] = conf_stats[\"Team_Count\"]/conf_total[\"Team_Count\"]\n",
        "#conf_stats[\"Win_Representation\"] = conf_stats[\"Wins\"]/conf_total[\"Wins\"]\n",
        "\n",
        "conf_stats"
      ],
      "execution_count": 44,
      "outputs": [
        {
          "output_type": "stream",
          "text": [
            "Filter the top teams (10-300): 50\n"
          ],
          "name": "stdout"
        },
        {
          "output_type": "execute_result",
          "data": {
            "text/html": [
              "<div>\n",
              "<style scoped>\n",
              "    .dataframe tbody tr th:only-of-type {\n",
              "        vertical-align: middle;\n",
              "    }\n",
              "\n",
              "    .dataframe tbody tr th {\n",
              "        vertical-align: top;\n",
              "    }\n",
              "\n",
              "    .dataframe thead th {\n",
              "        text-align: right;\n",
              "    }\n",
              "</style>\n",
              "<table border=\"1\" class=\"dataframe\">\n",
              "  <thead>\n",
              "    <tr style=\"text-align: right;\">\n",
              "      <th></th>\n",
              "      <th>Wins</th>\n",
              "      <th>Team_Count</th>\n",
              "      <th>Avg_Wins_per_Team</th>\n",
              "      <th>Team_Representation</th>\n",
              "    </tr>\n",
              "    <tr>\n",
              "      <th>Conference</th>\n",
              "      <th></th>\n",
              "      <th></th>\n",
              "      <th></th>\n",
              "      <th></th>\n",
              "    </tr>\n",
              "  </thead>\n",
              "  <tbody>\n",
              "    <tr>\n",
              "      <th>A10</th>\n",
              "      <td>49.0</td>\n",
              "      <td>3</td>\n",
              "      <td>16.333333</td>\n",
              "      <td>0.214286</td>\n",
              "    </tr>\n",
              "    <tr>\n",
              "      <th>ACC</th>\n",
              "      <td>129.0</td>\n",
              "      <td>8</td>\n",
              "      <td>16.125000</td>\n",
              "      <td>0.533333</td>\n",
              "    </tr>\n",
              "    <tr>\n",
              "      <th>Amer</th>\n",
              "      <td>40.0</td>\n",
              "      <td>2</td>\n",
              "      <td>20.000000</td>\n",
              "      <td>0.181818</td>\n",
              "    </tr>\n",
              "    <tr>\n",
              "      <th>B10</th>\n",
              "      <td>174.0</td>\n",
              "      <td>10</td>\n",
              "      <td>17.400000</td>\n",
              "      <td>0.714286</td>\n",
              "    </tr>\n",
              "    <tr>\n",
              "      <th>B12</th>\n",
              "      <td>131.0</td>\n",
              "      <td>7</td>\n",
              "      <td>18.714286</td>\n",
              "      <td>0.700000</td>\n",
              "    </tr>\n",
              "    <tr>\n",
              "      <th>BE</th>\n",
              "      <td>51.0</td>\n",
              "      <td>3</td>\n",
              "      <td>17.000000</td>\n",
              "      <td>0.272727</td>\n",
              "    </tr>\n",
              "    <tr>\n",
              "      <th>MVC</th>\n",
              "      <td>24.0</td>\n",
              "      <td>1</td>\n",
              "      <td>24.000000</td>\n",
              "      <td>0.100000</td>\n",
              "    </tr>\n",
              "    <tr>\n",
              "      <th>MWC</th>\n",
              "      <td>43.0</td>\n",
              "      <td>2</td>\n",
              "      <td>21.500000</td>\n",
              "      <td>0.181818</td>\n",
              "    </tr>\n",
              "    <tr>\n",
              "      <th>P12</th>\n",
              "      <td>98.0</td>\n",
              "      <td>5</td>\n",
              "      <td>19.600000</td>\n",
              "      <td>0.416667</td>\n",
              "    </tr>\n",
              "    <tr>\n",
              "      <th>SEC</th>\n",
              "      <td>121.0</td>\n",
              "      <td>7</td>\n",
              "      <td>17.285714</td>\n",
              "      <td>0.500000</td>\n",
              "    </tr>\n",
              "    <tr>\n",
              "      <th>WCC</th>\n",
              "      <td>46.0</td>\n",
              "      <td>2</td>\n",
              "      <td>23.000000</td>\n",
              "      <td>0.200000</td>\n",
              "    </tr>\n",
              "  </tbody>\n",
              "</table>\n",
              "</div>"
            ],
            "text/plain": [
              "             Wins  Team_Count  Avg_Wins_per_Team  Team_Representation\n",
              "Conference                                                           \n",
              "A10          49.0           3          16.333333             0.214286\n",
              "ACC         129.0           8          16.125000             0.533333\n",
              "Amer         40.0           2          20.000000             0.181818\n",
              "B10         174.0          10          17.400000             0.714286\n",
              "B12         131.0           7          18.714286             0.700000\n",
              "BE           51.0           3          17.000000             0.272727\n",
              "MVC          24.0           1          24.000000             0.100000\n",
              "MWC          43.0           2          21.500000             0.181818\n",
              "P12          98.0           5          19.600000             0.416667\n",
              "SEC         121.0           7          17.285714             0.500000\n",
              "WCC          46.0           2          23.000000             0.200000"
            ]
          },
          "metadata": {
            "tags": []
          },
          "execution_count": 44
        }
      ]
    },
    {
      "cell_type": "code",
      "metadata": {
        "colab": {
          "base_uri": "https://localhost:8080/",
          "height": 298
        },
        "id": "7AhNvaNloEwt",
        "outputId": "e3239380-f3a6-4090-8074-2b2ae86fab44"
      },
      "source": [
        "# Create a histogram of highly ranked teams from each conference\n",
        "conf_stats[\"Team_Count\"].plot.hist(bins=5)\n",
        "plt.title(\"Number of Conferences with highly ranked teams\")"
      ],
      "execution_count": 30,
      "outputs": [
        {
          "output_type": "execute_result",
          "data": {
            "text/plain": [
              "Text(0.5, 1.0, 'Number of Conferences with highly ranked teams')"
            ]
          },
          "metadata": {
            "tags": []
          },
          "execution_count": 30
        },
        {
          "output_type": "display_data",
          "data": {
            "image/png": "[encoded data removed]",
            "text/plain": [
              "<Figure size 432x288 with 1 Axes>"
            ]
          },
          "metadata": {
            "tags": [],
            "needs_background": "light"
          }
        }
      ]
    },
    {
      "cell_type": "markdown",
      "metadata": {
        "id": "Du-3Uiouqan_"
      },
      "source": [
        "There are a few \"Power\" conferences with high representation, and many conferences with low representation, but have standout performers like MVC, MWC, and WCC that have teams with over 20 wins."
      ]
    }
  ]
}